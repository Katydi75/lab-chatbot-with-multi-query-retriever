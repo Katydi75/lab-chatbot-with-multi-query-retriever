{
 "cells": [
  {
   "cell_type": "markdown",
   "metadata": {},
   "source": [
    "# Question Answering with LangChain, OpenAI, and MultiQuery Retriever\n",
    "\n",
    "This interactive workbook demonstrates example of Elasticsearch's [MultiQuery Retriever](https://api.python.langchain.com/en/latest/retrievers/langchain.retrievers.multi_query.MultiQueryRetriever.html) to generate similar queries for a given user input and apply all queries to retrieve a larger set of relevant documents from a vectorstore.\n",
    "\n",
    "Before we begin, we first split the fictional workplace documents into passages with `langchain` and uses OpenAI to transform these passages into embeddings and then store these into Elasticsearch.\n",
    "\n",
    "We will then ask a question, generate similar questions using langchain and OpenAI, retrieve relevant passages from the vector store, and use langchain and OpenAI again to provide a summary for the questions."
   ]
  },
  {
   "cell_type": "markdown",
   "metadata": {},
   "source": [
    "## Install packages and import modules"
   ]
  },
  {
   "cell_type": "code",
   "execution_count": 8,
   "metadata": {},
   "outputs": [
    {
     "name": "stderr",
     "output_type": "stream",
     "text": [
      "Python was not found; run without arguments to install from the Microsoft Store, or disable this shortcut from Settings > Apps > Advanced app settings > App execution aliases.\n"
     ]
    },
    {
     "ename": "ModuleNotFoundError",
     "evalue": "No module named 'langchain_elasticsearch'",
     "output_type": "error",
     "traceback": [
      "\u001b[31m---------------------------------------------------------------------------\u001b[39m",
      "\u001b[31mModuleNotFoundError\u001b[39m                       Traceback (most recent call last)",
      "\u001b[36mCell\u001b[39m\u001b[36m \u001b[39m\u001b[32mIn[8]\u001b[39m\u001b[32m, line 4\u001b[39m\n\u001b[32m      1\u001b[39m get_ipython().system(\u001b[33m'\u001b[39m\u001b[33mpython3 -m pip install -qU jq lark langchain langchain-elasticsearch langchain_openai tiktoken\u001b[39m\u001b[33m'\u001b[39m)\n\u001b[32m      3\u001b[39m \u001b[38;5;28;01mfrom\u001b[39;00m\u001b[38;5;250m \u001b[39m\u001b[34;01mlangchain_openai\u001b[39;00m\u001b[34;01m.\u001b[39;00m\u001b[34;01membeddings\u001b[39;00m\u001b[38;5;250m \u001b[39m\u001b[38;5;28;01mimport\u001b[39;00m OpenAIEmbeddings\n\u001b[32m----> \u001b[39m\u001b[32m4\u001b[39m \u001b[38;5;28;01mfrom\u001b[39;00m\u001b[38;5;250m \u001b[39m\u001b[34;01mlangchain_elasticsearch\u001b[39;00m\u001b[38;5;250m \u001b[39m\u001b[38;5;28;01mimport\u001b[39;00m ElasticsearchStore\n\u001b[32m      5\u001b[39m \u001b[38;5;28;01mfrom\u001b[39;00m\u001b[38;5;250m \u001b[39m\u001b[34;01mlangchain_openai\u001b[39;00m\u001b[34;01m.\u001b[39;00m\u001b[34;01mllms\u001b[39;00m\u001b[38;5;250m \u001b[39m\u001b[38;5;28;01mimport\u001b[39;00m OpenAI\n\u001b[32m      6\u001b[39m \u001b[38;5;28;01mfrom\u001b[39;00m\u001b[38;5;250m \u001b[39m\u001b[34;01mlangchain\u001b[39;00m\u001b[34;01m.\u001b[39;00m\u001b[34;01mretrievers\u001b[39;00m\u001b[34;01m.\u001b[39;00m\u001b[34;01mmulti_query\u001b[39;00m\u001b[38;5;250m \u001b[39m\u001b[38;5;28;01mimport\u001b[39;00m MultiQueryRetriever\n",
      "\u001b[31mModuleNotFoundError\u001b[39m: No module named 'langchain_elasticsearch'"
     ]
    }
   ],
   "source": [
    "!python3 -m pip install -qU jq lark langchain langchain-elasticsearch langchain_openai tiktoken\n",
    "\n",
    "from langchain_openai.embeddings import OpenAIEmbeddings\n",
    "from langchain_elasticsearch import ElasticsearchStore\n",
    "from langchain_openai.llms import OpenAI\n",
    "from langchain.retrievers.multi_query import MultiQueryRetriever\n",
    "from getpass import getpass"
   ]
  },
  {
   "cell_type": "markdown",
   "metadata": {},
   "source": [
    "## Connect to Elasticsearch\n",
    "\n",
    "ℹ️ We're using an Elastic Cloud deployment of Elasticsearch for this notebook. If you don't have an Elastic Cloud deployment, sign up [here](https://cloud.elastic.co/registration?utm_source=github&utm_content=elasticsearch-labs-notebook) for a free trial. \n",
    "\n",
    "We'll use the **Cloud ID** to identify our deployment, because we are using Elastic Cloud deployment. To find the Cloud ID for your deployment, go to https://cloud.elastic.co/deployments and select your deployment.\n",
    "\n",
    "We will use [ElasticsearchStore](https://api.python.langchain.com/en/latest/vectorstores/langchain.vectorstores.elasticsearch.ElasticsearchStore.html) to connect to our elastic cloud deployment, This would help create and index data easily.  We would also send list of documents that we created in the previous step"
   ]
  },
  {
   "cell_type": "code",
   "execution_count": 2,
   "metadata": {},
   "outputs": [
    {
     "name": "stdout",
     "output_type": "stream",
     "text": [
      "Requirement already satisfied: python-dotenv in c:\\users\\katyd\\anaconda3\\envs\\mon_env\\lib\\site-packages (1.1.1)\n",
      "Requirement already satisfied: langchain-openai in c:\\users\\katyd\\anaconda3\\envs\\mon_env\\lib\\site-packages (0.3.32)\n",
      "Requirement already satisfied: langchain-elasticsearch in c:\\users\\katyd\\anaconda3\\envs\\mon_env\\lib\\site-packages (0.3.2)\n",
      "Requirement already satisfied: python-dotenv in c:\\users\\katyd\\anaconda3\\envs\\mon_env\\lib\\site-packages (1.1.1)\n",
      "Requirement already satisfied: langchain-core<1.0.0,>=0.3.74 in c:\\users\\katyd\\anaconda3\\envs\\mon_env\\lib\\site-packages (from langchain-openai) (0.3.75)\n",
      "Requirement already satisfied: openai<2.0.0,>=1.99.9 in c:\\users\\katyd\\anaconda3\\envs\\mon_env\\lib\\site-packages (from langchain-openai) (1.100.1)\n",
      "Requirement already satisfied: tiktoken<1,>=0.7 in c:\\users\\katyd\\anaconda3\\envs\\mon_env\\lib\\site-packages (from langchain-openai) (0.11.0)\n",
      "Requirement already satisfied: langsmith>=0.3.45 in c:\\users\\katyd\\anaconda3\\envs\\mon_env\\lib\\site-packages (from langchain-core<1.0.0,>=0.3.74->langchain-openai) (0.4.21)\n",
      "Requirement already satisfied: tenacity!=8.4.0,<10.0.0,>=8.1.0 in c:\\users\\katyd\\anaconda3\\envs\\mon_env\\lib\\site-packages (from langchain-core<1.0.0,>=0.3.74->langchain-openai) (9.1.2)\n",
      "Requirement already satisfied: jsonpatch<2.0,>=1.33 in c:\\users\\katyd\\anaconda3\\envs\\mon_env\\lib\\site-packages (from langchain-core<1.0.0,>=0.3.74->langchain-openai) (1.33)\n",
      "Requirement already satisfied: PyYAML>=5.3 in c:\\users\\katyd\\anaconda3\\envs\\mon_env\\lib\\site-packages (from langchain-core<1.0.0,>=0.3.74->langchain-openai) (6.0.2)\n",
      "Requirement already satisfied: typing-extensions>=4.7 in c:\\users\\katyd\\anaconda3\\envs\\mon_env\\lib\\site-packages (from langchain-core<1.0.0,>=0.3.74->langchain-openai) (4.15.0)\n",
      "Requirement already satisfied: packaging>=23.2 in c:\\users\\katyd\\anaconda3\\envs\\mon_env\\lib\\site-packages (from langchain-core<1.0.0,>=0.3.74->langchain-openai) (24.2)\n",
      "Requirement already satisfied: pydantic>=2.7.4 in c:\\users\\katyd\\anaconda3\\envs\\mon_env\\lib\\site-packages (from langchain-core<1.0.0,>=0.3.74->langchain-openai) (2.11.7)\n",
      "Requirement already satisfied: jsonpointer>=1.9 in c:\\users\\katyd\\anaconda3\\envs\\mon_env\\lib\\site-packages (from jsonpatch<2.0,>=1.33->langchain-core<1.0.0,>=0.3.74->langchain-openai) (3.0.0)\n",
      "Requirement already satisfied: anyio<5,>=3.5.0 in c:\\users\\katyd\\anaconda3\\envs\\mon_env\\lib\\site-packages (from openai<2.0.0,>=1.99.9->langchain-openai) (4.7.0)\n",
      "Requirement already satisfied: distro<2,>=1.7.0 in c:\\users\\katyd\\anaconda3\\envs\\mon_env\\lib\\site-packages (from openai<2.0.0,>=1.99.9->langchain-openai) (1.9.0)\n",
      "Requirement already satisfied: httpx<1,>=0.23.0 in c:\\users\\katyd\\anaconda3\\envs\\mon_env\\lib\\site-packages (from openai<2.0.0,>=1.99.9->langchain-openai) (0.28.1)\n",
      "Requirement already satisfied: jiter<1,>=0.4.0 in c:\\users\\katyd\\anaconda3\\envs\\mon_env\\lib\\site-packages (from openai<2.0.0,>=1.99.9->langchain-openai) (0.10.0)\n",
      "Requirement already satisfied: sniffio in c:\\users\\katyd\\anaconda3\\envs\\mon_env\\lib\\site-packages (from openai<2.0.0,>=1.99.9->langchain-openai) (1.3.0)\n",
      "Requirement already satisfied: tqdm>4 in c:\\users\\katyd\\anaconda3\\envs\\mon_env\\lib\\site-packages (from openai<2.0.0,>=1.99.9->langchain-openai) (4.67.1)\n",
      "Requirement already satisfied: idna>=2.8 in c:\\users\\katyd\\anaconda3\\envs\\mon_env\\lib\\site-packages (from anyio<5,>=3.5.0->openai<2.0.0,>=1.99.9->langchain-openai) (3.10)\n",
      "Requirement already satisfied: certifi in c:\\users\\katyd\\anaconda3\\envs\\mon_env\\lib\\site-packages (from httpx<1,>=0.23.0->openai<2.0.0,>=1.99.9->langchain-openai) (2025.8.3)\n",
      "Requirement already satisfied: httpcore==1.* in c:\\users\\katyd\\anaconda3\\envs\\mon_env\\lib\\site-packages (from httpx<1,>=0.23.0->openai<2.0.0,>=1.99.9->langchain-openai) (1.0.9)\n",
      "Requirement already satisfied: h11>=0.16 in c:\\users\\katyd\\anaconda3\\envs\\mon_env\\lib\\site-packages (from httpcore==1.*->httpx<1,>=0.23.0->openai<2.0.0,>=1.99.9->langchain-openai) (0.16.0)\n",
      "Requirement already satisfied: annotated-types>=0.6.0 in c:\\users\\katyd\\anaconda3\\envs\\mon_env\\lib\\site-packages (from pydantic>=2.7.4->langchain-core<1.0.0,>=0.3.74->langchain-openai) (0.7.0)\n",
      "Requirement already satisfied: pydantic-core==2.33.2 in c:\\users\\katyd\\anaconda3\\envs\\mon_env\\lib\\site-packages (from pydantic>=2.7.4->langchain-core<1.0.0,>=0.3.74->langchain-openai) (2.33.2)\n",
      "Requirement already satisfied: typing-inspection>=0.4.0 in c:\\users\\katyd\\anaconda3\\envs\\mon_env\\lib\\site-packages (from pydantic>=2.7.4->langchain-core<1.0.0,>=0.3.74->langchain-openai) (0.4.1)\n",
      "Requirement already satisfied: regex>=2022.1.18 in c:\\users\\katyd\\anaconda3\\envs\\mon_env\\lib\\site-packages (from tiktoken<1,>=0.7->langchain-openai) (2025.9.1)\n",
      "Requirement already satisfied: requests>=2.26.0 in c:\\users\\katyd\\anaconda3\\envs\\mon_env\\lib\\site-packages (from tiktoken<1,>=0.7->langchain-openai) (2.32.5)\n",
      "Requirement already satisfied: elasticsearch<9.0.0,>=8.13.1 in c:\\users\\katyd\\anaconda3\\envs\\mon_env\\lib\\site-packages (from elasticsearch[vectorstore-mmr]<9.0.0,>=8.13.1->langchain-elasticsearch) (8.19.0)\n",
      "Requirement already satisfied: elastic-transport<9,>=8.15.1 in c:\\users\\katyd\\anaconda3\\envs\\mon_env\\lib\\site-packages (from elasticsearch<9.0.0,>=8.13.1->elasticsearch[vectorstore-mmr]<9.0.0,>=8.13.1->langchain-elasticsearch) (8.17.1)\n",
      "Requirement already satisfied: python-dateutil in c:\\users\\katyd\\anaconda3\\envs\\mon_env\\lib\\site-packages (from elasticsearch<9.0.0,>=8.13.1->elasticsearch[vectorstore-mmr]<9.0.0,>=8.13.1->langchain-elasticsearch) (2.9.0.post0)\n",
      "Requirement already satisfied: urllib3<3,>=1.26.2 in c:\\users\\katyd\\anaconda3\\envs\\mon_env\\lib\\site-packages (from elastic-transport<9,>=8.15.1->elasticsearch<9.0.0,>=8.13.1->elasticsearch[vectorstore-mmr]<9.0.0,>=8.13.1->langchain-elasticsearch) (2.5.0)\n",
      "Requirement already satisfied: numpy>=1 in c:\\users\\katyd\\anaconda3\\envs\\mon_env\\lib\\site-packages (from elasticsearch[vectorstore-mmr]<9.0.0,>=8.13.1->langchain-elasticsearch) (2.3.2)\n",
      "Requirement already satisfied: simsimd>=3 in c:\\users\\katyd\\anaconda3\\envs\\mon_env\\lib\\site-packages (from elasticsearch[vectorstore-mmr]<9.0.0,>=8.13.1->langchain-elasticsearch) (6.5.1)\n",
      "Requirement already satisfied: orjson>=3.9.14 in c:\\users\\katyd\\anaconda3\\envs\\mon_env\\lib\\site-packages (from langsmith>=0.3.45->langchain-core<1.0.0,>=0.3.74->langchain-openai) (3.11.3)\n",
      "Requirement already satisfied: requests-toolbelt>=1.0.0 in c:\\users\\katyd\\anaconda3\\envs\\mon_env\\lib\\site-packages (from langsmith>=0.3.45->langchain-core<1.0.0,>=0.3.74->langchain-openai) (1.0.0)\n",
      "Requirement already satisfied: zstandard>=0.23.0 in c:\\users\\katyd\\anaconda3\\envs\\mon_env\\lib\\site-packages (from langsmith>=0.3.45->langchain-core<1.0.0,>=0.3.74->langchain-openai) (0.24.0)\n",
      "Requirement already satisfied: charset_normalizer<4,>=2 in c:\\users\\katyd\\anaconda3\\envs\\mon_env\\lib\\site-packages (from requests>=2.26.0->tiktoken<1,>=0.7->langchain-openai) (3.4.3)\n",
      "Requirement already satisfied: colorama in c:\\users\\katyd\\anaconda3\\envs\\mon_env\\lib\\site-packages (from tqdm>4->openai<2.0.0,>=1.99.9->langchain-openai) (0.4.6)\n",
      "Requirement already satisfied: six>=1.5 in c:\\users\\katyd\\anaconda3\\envs\\mon_env\\lib\\site-packages (from python-dateutil->elasticsearch<9.0.0,>=8.13.1->elasticsearch[vectorstore-mmr]<9.0.0,>=8.13.1->langchain-elasticsearch) (1.17.0)\n",
      "c:\\Users\\katyd\\anaconda3\\envs\\mon_env\\python.exe\n",
      "Requirement already satisfied: langchain in c:\\users\\katyd\\anaconda3\\envs\\mon_env\\lib\\site-packages (0.3.27)\n",
      "Requirement already satisfied: langchain-elasticsearch in c:\\users\\katyd\\anaconda3\\envs\\mon_env\\lib\\site-packages (0.3.2)\n",
      "Requirement already satisfied: langchain-openai in c:\\users\\katyd\\anaconda3\\envs\\mon_env\\lib\\site-packages (0.3.32)\n",
      "Requirement already satisfied: tiktoken in c:\\users\\katyd\\anaconda3\\envs\\mon_env\\lib\\site-packages (0.11.0)\n",
      "Requirement already satisfied: python-dotenv in c:\\users\\katyd\\anaconda3\\envs\\mon_env\\lib\\site-packages (1.1.1)\n",
      "Requirement already satisfied: jq in c:\\users\\katyd\\anaconda3\\envs\\mon_env\\lib\\site-packages (1.10.0)\n",
      "Requirement already satisfied: lark in c:\\users\\katyd\\anaconda3\\envs\\mon_env\\lib\\site-packages (1.2.2)\n",
      "Requirement already satisfied: langchain-core<1.0.0,>=0.3.72 in c:\\users\\katyd\\anaconda3\\envs\\mon_env\\lib\\site-packages (from langchain) (0.3.75)\n",
      "Requirement already satisfied: langchain-text-splitters<1.0.0,>=0.3.9 in c:\\users\\katyd\\anaconda3\\envs\\mon_env\\lib\\site-packages (from langchain) (0.3.11)\n",
      "Requirement already satisfied: langsmith>=0.1.17 in c:\\users\\katyd\\anaconda3\\envs\\mon_env\\lib\\site-packages (from langchain) (0.4.21)\n",
      "Requirement already satisfied: pydantic<3.0.0,>=2.7.4 in c:\\users\\katyd\\anaconda3\\envs\\mon_env\\lib\\site-packages (from langchain) (2.11.7)\n",
      "Requirement already satisfied: SQLAlchemy<3,>=1.4 in c:\\users\\katyd\\anaconda3\\envs\\mon_env\\lib\\site-packages (from langchain) (2.0.43)\n",
      "Requirement already satisfied: requests<3,>=2 in c:\\users\\katyd\\anaconda3\\envs\\mon_env\\lib\\site-packages (from langchain) (2.32.5)\n",
      "Requirement already satisfied: PyYAML>=5.3 in c:\\users\\katyd\\anaconda3\\envs\\mon_env\\lib\\site-packages (from langchain) (6.0.2)\n",
      "Requirement already satisfied: tenacity!=8.4.0,<10.0.0,>=8.1.0 in c:\\users\\katyd\\anaconda3\\envs\\mon_env\\lib\\site-packages (from langchain-core<1.0.0,>=0.3.72->langchain) (9.1.2)\n",
      "Requirement already satisfied: jsonpatch<2.0,>=1.33 in c:\\users\\katyd\\anaconda3\\envs\\mon_env\\lib\\site-packages (from langchain-core<1.0.0,>=0.3.72->langchain) (1.33)\n",
      "Requirement already satisfied: typing-extensions>=4.7 in c:\\users\\katyd\\anaconda3\\envs\\mon_env\\lib\\site-packages (from langchain-core<1.0.0,>=0.3.72->langchain) (4.15.0)\n",
      "Requirement already satisfied: packaging>=23.2 in c:\\users\\katyd\\anaconda3\\envs\\mon_env\\lib\\site-packages (from langchain-core<1.0.0,>=0.3.72->langchain) (24.2)\n",
      "Requirement already satisfied: jsonpointer>=1.9 in c:\\users\\katyd\\anaconda3\\envs\\mon_env\\lib\\site-packages (from jsonpatch<2.0,>=1.33->langchain-core<1.0.0,>=0.3.72->langchain) (3.0.0)\n",
      "Requirement already satisfied: annotated-types>=0.6.0 in c:\\users\\katyd\\anaconda3\\envs\\mon_env\\lib\\site-packages (from pydantic<3.0.0,>=2.7.4->langchain) (0.7.0)\n",
      "Requirement already satisfied: pydantic-core==2.33.2 in c:\\users\\katyd\\anaconda3\\envs\\mon_env\\lib\\site-packages (from pydantic<3.0.0,>=2.7.4->langchain) (2.33.2)\n",
      "Requirement already satisfied: typing-inspection>=0.4.0 in c:\\users\\katyd\\anaconda3\\envs\\mon_env\\lib\\site-packages (from pydantic<3.0.0,>=2.7.4->langchain) (0.4.1)\n",
      "Requirement already satisfied: charset_normalizer<4,>=2 in c:\\users\\katyd\\anaconda3\\envs\\mon_env\\lib\\site-packages (from requests<3,>=2->langchain) (3.4.3)\n",
      "Requirement already satisfied: idna<4,>=2.5 in c:\\users\\katyd\\anaconda3\\envs\\mon_env\\lib\\site-packages (from requests<3,>=2->langchain) (3.10)\n",
      "Requirement already satisfied: urllib3<3,>=1.21.1 in c:\\users\\katyd\\anaconda3\\envs\\mon_env\\lib\\site-packages (from requests<3,>=2->langchain) (2.5.0)\n",
      "Requirement already satisfied: certifi>=2017.4.17 in c:\\users\\katyd\\anaconda3\\envs\\mon_env\\lib\\site-packages (from requests<3,>=2->langchain) (2025.8.3)\n",
      "Requirement already satisfied: greenlet>=1 in c:\\users\\katyd\\anaconda3\\envs\\mon_env\\lib\\site-packages (from SQLAlchemy<3,>=1.4->langchain) (3.2.4)\n",
      "Requirement already satisfied: elasticsearch<9.0.0,>=8.13.1 in c:\\users\\katyd\\anaconda3\\envs\\mon_env\\lib\\site-packages (from elasticsearch[vectorstore-mmr]<9.0.0,>=8.13.1->langchain-elasticsearch) (8.19.0)\n",
      "Requirement already satisfied: elastic-transport<9,>=8.15.1 in c:\\users\\katyd\\anaconda3\\envs\\mon_env\\lib\\site-packages (from elasticsearch<9.0.0,>=8.13.1->elasticsearch[vectorstore-mmr]<9.0.0,>=8.13.1->langchain-elasticsearch) (8.17.1)\n",
      "Requirement already satisfied: python-dateutil in c:\\users\\katyd\\anaconda3\\envs\\mon_env\\lib\\site-packages (from elasticsearch<9.0.0,>=8.13.1->elasticsearch[vectorstore-mmr]<9.0.0,>=8.13.1->langchain-elasticsearch) (2.9.0.post0)\n",
      "Requirement already satisfied: numpy>=1 in c:\\users\\katyd\\anaconda3\\envs\\mon_env\\lib\\site-packages (from elasticsearch[vectorstore-mmr]<9.0.0,>=8.13.1->langchain-elasticsearch) (2.3.2)\n",
      "Requirement already satisfied: simsimd>=3 in c:\\users\\katyd\\anaconda3\\envs\\mon_env\\lib\\site-packages (from elasticsearch[vectorstore-mmr]<9.0.0,>=8.13.1->langchain-elasticsearch) (6.5.1)\n",
      "Requirement already satisfied: openai<2.0.0,>=1.99.9 in c:\\users\\katyd\\anaconda3\\envs\\mon_env\\lib\\site-packages (from langchain-openai) (1.100.1)\n",
      "Requirement already satisfied: regex>=2022.1.18 in c:\\users\\katyd\\anaconda3\\envs\\mon_env\\lib\\site-packages (from tiktoken) (2025.9.1)\n",
      "Requirement already satisfied: anyio<5,>=3.5.0 in c:\\users\\katyd\\anaconda3\\envs\\mon_env\\lib\\site-packages (from openai<2.0.0,>=1.99.9->langchain-openai) (4.7.0)\n",
      "Requirement already satisfied: distro<2,>=1.7.0 in c:\\users\\katyd\\anaconda3\\envs\\mon_env\\lib\\site-packages (from openai<2.0.0,>=1.99.9->langchain-openai) (1.9.0)\n",
      "Requirement already satisfied: httpx<1,>=0.23.0 in c:\\users\\katyd\\anaconda3\\envs\\mon_env\\lib\\site-packages (from openai<2.0.0,>=1.99.9->langchain-openai) (0.28.1)\n",
      "Requirement already satisfied: jiter<1,>=0.4.0 in c:\\users\\katyd\\anaconda3\\envs\\mon_env\\lib\\site-packages (from openai<2.0.0,>=1.99.9->langchain-openai) (0.10.0)\n",
      "Requirement already satisfied: sniffio in c:\\users\\katyd\\anaconda3\\envs\\mon_env\\lib\\site-packages (from openai<2.0.0,>=1.99.9->langchain-openai) (1.3.0)\n",
      "Requirement already satisfied: tqdm>4 in c:\\users\\katyd\\anaconda3\\envs\\mon_env\\lib\\site-packages (from openai<2.0.0,>=1.99.9->langchain-openai) (4.67.1)\n",
      "Requirement already satisfied: httpcore==1.* in c:\\users\\katyd\\anaconda3\\envs\\mon_env\\lib\\site-packages (from httpx<1,>=0.23.0->openai<2.0.0,>=1.99.9->langchain-openai) (1.0.9)\n",
      "Requirement already satisfied: h11>=0.16 in c:\\users\\katyd\\anaconda3\\envs\\mon_env\\lib\\site-packages (from httpcore==1.*->httpx<1,>=0.23.0->openai<2.0.0,>=1.99.9->langchain-openai) (0.16.0)\n",
      "Requirement already satisfied: orjson>=3.9.14 in c:\\users\\katyd\\anaconda3\\envs\\mon_env\\lib\\site-packages (from langsmith>=0.1.17->langchain) (3.11.3)\n",
      "Requirement already satisfied: requests-toolbelt>=1.0.0 in c:\\users\\katyd\\anaconda3\\envs\\mon_env\\lib\\site-packages (from langsmith>=0.1.17->langchain) (1.0.0)\n",
      "Requirement already satisfied: zstandard>=0.23.0 in c:\\users\\katyd\\anaconda3\\envs\\mon_env\\lib\\site-packages (from langsmith>=0.1.17->langchain) (0.24.0)\n",
      "Requirement already satisfied: colorama in c:\\users\\katyd\\anaconda3\\envs\\mon_env\\lib\\site-packages (from tqdm>4->openai<2.0.0,>=1.99.9->langchain-openai) (0.4.6)\n",
      "Requirement already satisfied: six>=1.5 in c:\\users\\katyd\\anaconda3\\envs\\mon_env\\lib\\site-packages (from python-dateutil->elasticsearch<9.0.0,>=8.13.1->elasticsearch[vectorstore-mmr]<9.0.0,>=8.13.1->langchain-elasticsearch) (1.17.0)\n"
     ]
    }
   ],
   "source": [
    "!pip install python-dotenv\n",
    "!pip install langchain-openai langchain-elasticsearch python-dotenv\n",
    "\n",
    "import sys\n",
    "print(sys.executable)  # sanity check: shows the Python your notebook is using\n",
    "!{sys.executable} -m pip install -U langchain langchain-elasticsearch langchain-openai tiktoken python-dotenv jq lark\n",
    "\n"
   ]
  },
  {
   "cell_type": "code",
   "execution_count": 4,
   "metadata": {},
   "outputs": [
    {
     "name": "stdout",
     "output_type": "stream",
     "text": [
      "repr: 'Elasticsearch1:dXMtY2VudHJhbDEuZ2NwLmNsb3VkLmVzLmlvOjQ0MyQ0NWVhZDBhYjFjYTg0MjUwOTllMWZjZmU2NWNjYjQwMCQ2YTg3NWEzNzRkZjM0OGY1ODNkZmE1OTgxOGQyOWYwOA=='\n",
      "length: 147\n",
      "deployment name: Elasticsearch1\n",
      "WARNING: Encoded part has no '$' – likely truncated or not a real Cloud ID\n",
      "base64-decode OK, decoded len: 97\n"
     ]
    }
   ],
   "source": [
    "import os, re, base64\n",
    "from dotenv import load_dotenv\n",
    "\n",
    "# If you've edited .env in the same session, allow overriding cached env\n",
    "load_dotenv(override=True)\n",
    "\n",
    "cid = os.getenv(\"ELASTIC_CLOUD_ID\")\n",
    "print(\"repr:\", repr(cid))\n",
    "print(\"length:\", 0 if cid is None else len(cid))\n",
    "\n",
    "# Basic shape check: \"name:base64\"\n",
    "if not cid or \":\" not in cid:\n",
    "    raise ValueError(\"ELASTIC_CLOUD_ID missing colon or empty\")\n",
    "\n",
    "name, enc = cid.split(\":\", 1)\n",
    "print(\"deployment name:\", name)\n",
    "\n",
    "# Quick sanity: the encoded part should contain at least one '$'\n",
    "if \"$\" not in enc:\n",
    "    print(\"WARNING: Encoded part has no '$' – likely truncated or not a real Cloud ID\")\n",
    "\n",
    "# Optional: try base64 decode to smoke-test (Cloud ID is URL-safe base64)\n",
    "try:\n",
    "    missing = (-len(enc)) % 4  # pad to multiple of 4\n",
    "    decoded = base64.urlsafe_b64decode(enc + (\"=\" * missing))\n",
    "    print(\"base64-decode OK, decoded len:\", len(decoded))\n",
    "except Exception as e:\n",
    "    print(\"base64-decode FAILED:\", e)\n"
   ]
  },
  {
   "cell_type": "code",
   "execution_count": 5,
   "metadata": {},
   "outputs": [
    {
     "name": "stdout",
     "output_type": "stream",
     "text": [
      "Cloud ID loaded: True\n",
      "API Key loaded: True\n",
      "OpenAI Key loaded: True\n"
     ]
    }
   ],
   "source": [
    "import os\n",
    "from dotenv import load_dotenv\n",
    "from langchain_openai import OpenAIEmbeddings\n",
    "from langchain_elasticsearch import ElasticsearchStore\n",
    "\n",
    "# Load environment variables from .env file\n",
    "load_dotenv()\n",
    "\n",
    "# Get credentials from environment\n",
    "ELASTIC_CLOUD_ID = os.getenv(\"ELASTIC_CLOUD_ID\")\n",
    "ELASTIC_API_KEY = os.getenv(\"ELASTIC_API_KEY\")\n",
    "OPENAI_API_KEY = os.getenv(\"OPENAI_API_KEY\")\n",
    "\n",
    "# Optional check (just prints True/False, not the secrets themselves)\n",
    "print(\"Cloud ID loaded:\", ELASTIC_CLOUD_ID is not None)\n",
    "print(\"API Key loaded:\", ELASTIC_API_KEY is not None)\n",
    "print(\"OpenAI Key loaded:\", OPENAI_API_KEY is not None)\n",
    "\n",
    "# Create embeddings\n",
    "embeddings = OpenAIEmbeddings(openai_api_key=OPENAI_API_KEY)\n",
    "\n",
    "# Connect to Elasticsearch\n",
    "vectorstore = ElasticsearchStore(\n",
    "    es_cloud_id=ELASTIC_CLOUD_ID,\n",
    "    es_api_key=ELASTIC_API_KEY,\n",
    "    index_name=\"search-ousy\",  # use your existing index\n",
    "    embedding=embeddings,\n",
    ")\n"
   ]
  },
  {
   "cell_type": "code",
   "execution_count": 8,
   "metadata": {},
   "outputs": [],
   "source": [
    "from getpass import getpass\n",
    "# https://www.elastic.co/search-labs/tutorials/install-elasticsearch/elastic-cloud#finding-your-cloud-id\n",
    "ELASTIC_CLOUD_ID = getpass(\"Elastic Cloud ID: \")\n",
    "\n",
    "# https://www.elastic.co/search-labs/tutorials/install-elasticsearch/elastic-cloud#creating-an-api-key\n",
    "ELASTIC_API_KEY = getpass(\"Elastic Api Key: \")\n",
    "\n",
    "# https://platform.openai.com/api-keys\n",
    "OPENAI_API_KEY = getpass(\"OpenAI API key: \")\n",
    "\n",
    "embeddings = OpenAIEmbeddings(openai_api_key=OPENAI_API_KEY)\n",
    "\n",
    "vectorstore = ElasticsearchStore(\n",
    "    es_cloud_id=ELASTIC_CLOUD_ID,\n",
    "    es_api_key=ELASTIC_API_KEY,\n",
    "    index_name=\"Myindex1\",  # give it a meaningful name\n",
    "    embedding=embeddings,\n",
    ")"
   ]
  },
  {
   "cell_type": "markdown",
   "metadata": {},
   "source": [
    "## Indexing Data into Elasticsearch\n",
    "Let's download the sample dataset and deserialize the document."
   ]
  },
  {
   "cell_type": "code",
   "execution_count": 9,
   "metadata": {},
   "outputs": [],
   "source": [
    "from urllib.request import urlopen\n",
    "import json\n",
    "\n",
    "url = \"https://raw.githubusercontent.com/elastic/elasticsearch-labs/main/example-apps/chatbot-rag-app/data/data.json\"\n",
    "\n",
    "response = urlopen(url)\n",
    "data = json.load(response)\n",
    "\n",
    "with open(\"temp.json\", \"w\") as json_file:\n",
    "    json.dump(data, json_file)"
   ]
  },
  {
   "cell_type": "markdown",
   "metadata": {},
   "source": [
    "### Split Documents into Passages\n",
    "\n",
    "We’ll chunk documents into passages in order to improve the retrieval specificity and to ensure that we can provide multiple passages within the context window of the final question answering prompt.\n",
    "\n",
    "Here we are chunking documents into 800 token passages with an overlap of 400 tokens.\n",
    "\n",
    "Here we are using a simple splitter but Langchain offers more advanced splitters to reduce the chance of context being lost."
   ]
  },
  {
   "cell_type": "code",
   "execution_count": 11,
   "metadata": {},
   "outputs": [
    {
     "name": "stdout",
     "output_type": "stream",
     "text": [
      "Requirement already satisfied: langchain in c:\\users\\katyd\\anaconda3\\envs\\mon_env\\lib\\site-packages (0.3.27)\n",
      "Requirement already satisfied: langchain-community in c:\\users\\katyd\\anaconda3\\envs\\mon_env\\lib\\site-packages (0.3.29)\n",
      "Requirement already satisfied: tiktoken in c:\\users\\katyd\\anaconda3\\envs\\mon_env\\lib\\site-packages (0.11.0)\n",
      "Requirement already satisfied: jq in c:\\users\\katyd\\anaconda3\\envs\\mon_env\\lib\\site-packages (1.10.0)\n",
      "Requirement already satisfied: python-dotenv in c:\\users\\katyd\\anaconda3\\envs\\mon_env\\lib\\site-packages (1.1.1)\n",
      "Requirement already satisfied: langchain-core<1.0.0,>=0.3.72 in c:\\users\\katyd\\anaconda3\\envs\\mon_env\\lib\\site-packages (from langchain) (0.3.75)\n",
      "Requirement already satisfied: langchain-text-splitters<1.0.0,>=0.3.9 in c:\\users\\katyd\\anaconda3\\envs\\mon_env\\lib\\site-packages (from langchain) (0.3.11)\n",
      "Requirement already satisfied: langsmith>=0.1.17 in c:\\users\\katyd\\anaconda3\\envs\\mon_env\\lib\\site-packages (from langchain) (0.4.21)\n",
      "Requirement already satisfied: pydantic<3.0.0,>=2.7.4 in c:\\users\\katyd\\anaconda3\\envs\\mon_env\\lib\\site-packages (from langchain) (2.11.7)\n",
      "Requirement already satisfied: SQLAlchemy<3,>=1.4 in c:\\users\\katyd\\anaconda3\\envs\\mon_env\\lib\\site-packages (from langchain) (2.0.43)\n",
      "Requirement already satisfied: requests<3,>=2 in c:\\users\\katyd\\anaconda3\\envs\\mon_env\\lib\\site-packages (from langchain) (2.32.5)\n",
      "Requirement already satisfied: PyYAML>=5.3 in c:\\users\\katyd\\anaconda3\\envs\\mon_env\\lib\\site-packages (from langchain) (6.0.2)\n",
      "Requirement already satisfied: tenacity!=8.4.0,<10.0.0,>=8.1.0 in c:\\users\\katyd\\anaconda3\\envs\\mon_env\\lib\\site-packages (from langchain-core<1.0.0,>=0.3.72->langchain) (9.1.2)\n",
      "Requirement already satisfied: jsonpatch<2.0,>=1.33 in c:\\users\\katyd\\anaconda3\\envs\\mon_env\\lib\\site-packages (from langchain-core<1.0.0,>=0.3.72->langchain) (1.33)\n",
      "Requirement already satisfied: typing-extensions>=4.7 in c:\\users\\katyd\\anaconda3\\envs\\mon_env\\lib\\site-packages (from langchain-core<1.0.0,>=0.3.72->langchain) (4.15.0)\n",
      "Requirement already satisfied: packaging>=23.2 in c:\\users\\katyd\\anaconda3\\envs\\mon_env\\lib\\site-packages (from langchain-core<1.0.0,>=0.3.72->langchain) (24.2)\n",
      "Requirement already satisfied: jsonpointer>=1.9 in c:\\users\\katyd\\anaconda3\\envs\\mon_env\\lib\\site-packages (from jsonpatch<2.0,>=1.33->langchain-core<1.0.0,>=0.3.72->langchain) (3.0.0)\n",
      "Requirement already satisfied: annotated-types>=0.6.0 in c:\\users\\katyd\\anaconda3\\envs\\mon_env\\lib\\site-packages (from pydantic<3.0.0,>=2.7.4->langchain) (0.7.0)\n",
      "Requirement already satisfied: pydantic-core==2.33.2 in c:\\users\\katyd\\anaconda3\\envs\\mon_env\\lib\\site-packages (from pydantic<3.0.0,>=2.7.4->langchain) (2.33.2)\n",
      "Requirement already satisfied: typing-inspection>=0.4.0 in c:\\users\\katyd\\anaconda3\\envs\\mon_env\\lib\\site-packages (from pydantic<3.0.0,>=2.7.4->langchain) (0.4.1)\n",
      "Requirement already satisfied: charset_normalizer<4,>=2 in c:\\users\\katyd\\anaconda3\\envs\\mon_env\\lib\\site-packages (from requests<3,>=2->langchain) (3.4.3)\n",
      "Requirement already satisfied: idna<4,>=2.5 in c:\\users\\katyd\\anaconda3\\envs\\mon_env\\lib\\site-packages (from requests<3,>=2->langchain) (3.10)\n",
      "Requirement already satisfied: urllib3<3,>=1.21.1 in c:\\users\\katyd\\anaconda3\\envs\\mon_env\\lib\\site-packages (from requests<3,>=2->langchain) (2.5.0)\n",
      "Requirement already satisfied: certifi>=2017.4.17 in c:\\users\\katyd\\anaconda3\\envs\\mon_env\\lib\\site-packages (from requests<3,>=2->langchain) (2025.8.3)\n",
      "Requirement already satisfied: greenlet>=1 in c:\\users\\katyd\\anaconda3\\envs\\mon_env\\lib\\site-packages (from SQLAlchemy<3,>=1.4->langchain) (3.2.4)\n",
      "Requirement already satisfied: aiohttp<4.0.0,>=3.8.3 in c:\\users\\katyd\\anaconda3\\envs\\mon_env\\lib\\site-packages (from langchain-community) (3.12.15)\n",
      "Requirement already satisfied: dataclasses-json<0.7,>=0.6.7 in c:\\users\\katyd\\anaconda3\\envs\\mon_env\\lib\\site-packages (from langchain-community) (0.6.7)\n",
      "Requirement already satisfied: pydantic-settings<3.0.0,>=2.10.1 in c:\\users\\katyd\\anaconda3\\envs\\mon_env\\lib\\site-packages (from langchain-community) (2.10.1)\n",
      "Requirement already satisfied: httpx-sse<1.0.0,>=0.4.0 in c:\\users\\katyd\\anaconda3\\envs\\mon_env\\lib\\site-packages (from langchain-community) (0.4.1)\n",
      "Requirement already satisfied: numpy>=1.26.2 in c:\\users\\katyd\\anaconda3\\envs\\mon_env\\lib\\site-packages (from langchain-community) (2.3.2)\n",
      "Requirement already satisfied: aiohappyeyeballs>=2.5.0 in c:\\users\\katyd\\anaconda3\\envs\\mon_env\\lib\\site-packages (from aiohttp<4.0.0,>=3.8.3->langchain-community) (2.6.1)\n",
      "Requirement already satisfied: aiosignal>=1.4.0 in c:\\users\\katyd\\anaconda3\\envs\\mon_env\\lib\\site-packages (from aiohttp<4.0.0,>=3.8.3->langchain-community) (1.4.0)\n",
      "Requirement already satisfied: attrs>=17.3.0 in c:\\users\\katyd\\anaconda3\\envs\\mon_env\\lib\\site-packages (from aiohttp<4.0.0,>=3.8.3->langchain-community) (24.3.0)\n",
      "Requirement already satisfied: frozenlist>=1.1.1 in c:\\users\\katyd\\anaconda3\\envs\\mon_env\\lib\\site-packages (from aiohttp<4.0.0,>=3.8.3->langchain-community) (1.7.0)\n",
      "Requirement already satisfied: multidict<7.0,>=4.5 in c:\\users\\katyd\\anaconda3\\envs\\mon_env\\lib\\site-packages (from aiohttp<4.0.0,>=3.8.3->langchain-community) (6.6.4)\n",
      "Requirement already satisfied: propcache>=0.2.0 in c:\\users\\katyd\\anaconda3\\envs\\mon_env\\lib\\site-packages (from aiohttp<4.0.0,>=3.8.3->langchain-community) (0.3.2)\n",
      "Requirement already satisfied: yarl<2.0,>=1.17.0 in c:\\users\\katyd\\anaconda3\\envs\\mon_env\\lib\\site-packages (from aiohttp<4.0.0,>=3.8.3->langchain-community) (1.20.1)\n",
      "Requirement already satisfied: marshmallow<4.0.0,>=3.18.0 in c:\\users\\katyd\\anaconda3\\envs\\mon_env\\lib\\site-packages (from dataclasses-json<0.7,>=0.6.7->langchain-community) (3.26.1)\n",
      "Requirement already satisfied: typing-inspect<1,>=0.4.0 in c:\\users\\katyd\\anaconda3\\envs\\mon_env\\lib\\site-packages (from dataclasses-json<0.7,>=0.6.7->langchain-community) (0.9.0)\n",
      "Requirement already satisfied: mypy-extensions>=0.3.0 in c:\\users\\katyd\\anaconda3\\envs\\mon_env\\lib\\site-packages (from typing-inspect<1,>=0.4.0->dataclasses-json<0.7,>=0.6.7->langchain-community) (1.1.0)\n",
      "Requirement already satisfied: regex>=2022.1.18 in c:\\users\\katyd\\anaconda3\\envs\\mon_env\\lib\\site-packages (from tiktoken) (2025.9.1)\n",
      "Requirement already satisfied: httpx<1,>=0.23.0 in c:\\users\\katyd\\anaconda3\\envs\\mon_env\\lib\\site-packages (from langsmith>=0.1.17->langchain) (0.28.1)\n",
      "Requirement already satisfied: orjson>=3.9.14 in c:\\users\\katyd\\anaconda3\\envs\\mon_env\\lib\\site-packages (from langsmith>=0.1.17->langchain) (3.11.3)\n",
      "Requirement already satisfied: requests-toolbelt>=1.0.0 in c:\\users\\katyd\\anaconda3\\envs\\mon_env\\lib\\site-packages (from langsmith>=0.1.17->langchain) (1.0.0)\n",
      "Requirement already satisfied: zstandard>=0.23.0 in c:\\users\\katyd\\anaconda3\\envs\\mon_env\\lib\\site-packages (from langsmith>=0.1.17->langchain) (0.24.0)\n",
      "Requirement already satisfied: anyio in c:\\users\\katyd\\anaconda3\\envs\\mon_env\\lib\\site-packages (from httpx<1,>=0.23.0->langsmith>=0.1.17->langchain) (4.7.0)\n",
      "Requirement already satisfied: httpcore==1.* in c:\\users\\katyd\\anaconda3\\envs\\mon_env\\lib\\site-packages (from httpx<1,>=0.23.0->langsmith>=0.1.17->langchain) (1.0.9)\n",
      "Requirement already satisfied: h11>=0.16 in c:\\users\\katyd\\anaconda3\\envs\\mon_env\\lib\\site-packages (from httpcore==1.*->httpx<1,>=0.23.0->langsmith>=0.1.17->langchain) (0.16.0)\n",
      "Requirement already satisfied: sniffio>=1.1 in c:\\users\\katyd\\anaconda3\\envs\\mon_env\\lib\\site-packages (from anyio->httpx<1,>=0.23.0->langsmith>=0.1.17->langchain) (1.3.0)\n"
     ]
    }
   ],
   "source": [
    "import sys\n",
    "!{sys.executable} -m pip install -U langchain langchain-community tiktoken jq python-dotenv\n"
   ]
  },
  {
   "cell_type": "code",
   "execution_count": 2,
   "metadata": {},
   "outputs": [
    {
     "name": "stdout",
     "output_type": "stream",
     "text": [
      "Loaded 15 chunks\n",
      "Effective: March 2020\n",
      "Purpose\n",
      "\n",
      "The purpose of this full-time work-from-home policy is to provide guidelines and support for employees to conduct their work remotely, ensuring the continuity and produc …\n",
      "{'source': 'C:\\\\Users\\\\katyd\\\\Downloads\\\\lab-chatbot-with-multi-query-retriever\\\\temp.json', 'seq_num': 1, 'name': 'Work From Home Policy', 'summary': 'This policy outlines the guidelines for full-time remote work, including eligibility, equipment and resources, workspace requirements, communication expectations, performance expectations, time tracking and overtime, confidentiality and data security, health and well-being, and policy reviews and updates. Employees are encouraged to direct any questions or concerns', 'url': './sharepoint/Work from home policy.txt', 'category': 'teams', 'updated_at': '2020-03-01'}\n"
     ]
    }
   ],
   "source": [
    "# If you're on newer LangChain, prefer these imports:\n",
    "# from langchain_community.document_loaders import JSONLoader\n",
    "# from langchain_text_splitters import RecursiveCharacterTextSplitter\n",
    "\n",
    "from langchain.document_loaders import JSONLoader\n",
    "from langchain.text_splitter import RecursiveCharacterTextSplitter\n",
    "\n",
    "\n",
    "def metadata_func(record: dict, metadata: dict) -> dict:\n",
    "    # Safely populate metadata from the JSON object\n",
    "    metadata[\"name\"] = record.get(\"name\")\n",
    "    metadata[\"summary\"] = record.get(\"summary\")\n",
    "    metadata[\"url\"] = record.get(\"url\")\n",
    "    metadata[\"category\"] = record.get(\"category\")\n",
    "    metadata[\"updated_at\"] = record.get(\"updated_at\")\n",
    "    return metadata\n",
    "\n",
    "\n",
    "loader = JSONLoader(\n",
    "    file_path=\"temp.json\",\n",
    "    jq_schema=\".[]\",        # iterate each item if your file is a list\n",
    "    content_key=\"content\",  # make sure each record has a 'content' field\n",
    "    metadata_func=metadata_func,\n",
    ")\n",
    "\n",
    "# EITHER token-aware splitter:\n",
    "text_splitter = RecursiveCharacterTextSplitter.from_tiktoken_encoder(\n",
    "    chunk_size=800,         # any positive int\n",
    "    chunk_overlap=200,      # must be < chunk_size\n",
    ")\n",
    "\n",
    "# OR simple character splitter:\n",
    "# text_splitter = RecursiveCharacterTextSplitter(\n",
    "#     chunk_size=800,\n",
    "#     chunk_overlap=200,\n",
    "# )\n",
    "\n",
    "docs = loader.load_and_split(text_splitter=text_splitter)\n",
    "print(f\"Loaded {len(docs)} chunks\")\n",
    "print(docs[0].page_content[:200], \"…\")\n",
    "print(docs[0].metadata)\n"
   ]
  },
  {
   "cell_type": "markdown",
   "metadata": {},
   "source": [
    "### Bulk Import Passages\n",
    "\n",
    "Now that we have split each document into the chunk size of 800, we will now index data to elasticsearch using [ElasticsearchStore.from_documents](https://api.python.langchain.com/en/latest/vectorstores/langchain.vectorstores.elasticsearch.ElasticsearchStore.html#langchain.vectorstores.elasticsearch.ElasticsearchStore.from_documents).\n",
    "\n",
    "We will use Cloud ID, Password and Index name values set in the `Create cloud deployment` step."
   ]
  },
  {
   "cell_type": "code",
   "execution_count": 5,
   "metadata": {},
   "outputs": [
    {
     "name": "stdout",
     "output_type": "stream",
     "text": [
      "Loaded 15 chunks\n"
     ]
    }
   ],
   "source": [
    "# --- Build `docs` from a JSON file (temp.json) ---\n",
    "\n",
    "# Compatible imports across LangChain versions\n",
    "try:\n",
    "    from langchain_community.document_loaders import JSONLoader\n",
    "except ImportError:\n",
    "    from langchain.document_loaders import JSONLoader\n",
    "\n",
    "try:\n",
    "    from langchain_text_splitters import RecursiveCharacterTextSplitter\n",
    "except ImportError:\n",
    "    from langchain.text_splitter import RecursiveCharacterTextSplitter\n",
    "\n",
    "from pathlib import Path\n",
    "\n",
    "# If you already defined metadata_func earlier, you can reuse it; otherwise use a safe default:\n",
    "def metadata_func(record: dict, metadata: dict) -> dict:\n",
    "    metadata[\"name\"] = record.get(\"name\")\n",
    "    metadata[\"summary\"] = record.get(\"summary\")\n",
    "    metadata[\"url\"] = record.get(\"url\")\n",
    "    metadata[\"category\"] = record.get(\"category\")\n",
    "    metadata[\"updated_at\"] = record.get(\"updated_at\")\n",
    "    return metadata\n",
    "\n",
    "json_path = Path(\"temp.json\")\n",
    "if not json_path.exists():\n",
    "    raise FileNotFoundError(\"temp.json not found in the current working directory.\")\n",
    "\n",
    "loader = JSONLoader(\n",
    "    file_path=str(json_path),\n",
    "    jq_schema=\".[]\",          # iterate items if the file is a list\n",
    "    content_key=\"content\",    # each JSON object must have this field\n",
    "    metadata_func=metadata_func,\n",
    ")\n",
    "\n",
    "text_splitter = RecursiveCharacterTextSplitter.from_tiktoken_encoder(\n",
    "    chunk_size=800,           # positive integers required\n",
    "    chunk_overlap=200,        # < chunk_size\n",
    ")\n",
    "\n",
    "docs = loader.load_and_split(text_splitter=text_splitter)\n",
    "print(f\"Loaded {len(docs)} chunks\")\n",
    "\n"
   ]
  },
  {
   "cell_type": "markdown",
   "metadata": {},
   "source": [
    "# Question Answering with MultiQuery Retriever\n",
    "\n",
    "Now that we have the passages stored in Elasticsearch, we can now ask a question to get the relevant passages."
   ]
  },
  {
   "cell_type": "code",
   "execution_count": 2,
   "metadata": {},
   "outputs": [
    {
     "ename": "NameError",
     "evalue": "name 'OPENAI_API_KEY' is not defined",
     "output_type": "error",
     "traceback": [
      "\u001b[31m---------------------------------------------------------------------------\u001b[39m",
      "\u001b[31mNameError\u001b[39m                                 Traceback (most recent call last)",
      "\u001b[36mCell\u001b[39m\u001b[36m \u001b[39m\u001b[32mIn[2]\u001b[39m\u001b[32m, line 5\u001b[39m\n\u001b[32m      2\u001b[39m \u001b[38;5;28;01mfrom\u001b[39;00m\u001b[38;5;250m \u001b[39m\u001b[34;01mlangchain_openai\u001b[39;00m\u001b[38;5;250m \u001b[39m\u001b[38;5;28;01mimport\u001b[39;00m OpenAIEmbeddings\n\u001b[32m      3\u001b[39m \u001b[38;5;28;01mfrom\u001b[39;00m\u001b[38;5;250m \u001b[39m\u001b[34;01mlangchain_elasticsearch\u001b[39;00m\u001b[38;5;250m \u001b[39m\u001b[38;5;28;01mimport\u001b[39;00m ElasticsearchStore\n\u001b[32m----> \u001b[39m\u001b[32m5\u001b[39m embeddings = OpenAIEmbeddings(api_key=OPENAI_API_KEY, model=\u001b[33m\"\u001b[39m\u001b[33mtext-embedding-3-small\u001b[39m\u001b[33m\"\u001b[39m)\n\u001b[32m      6\u001b[39m INDEX_NAME = \u001b[33m\"\u001b[39m\u001b[33mmy_docs_index\u001b[39m\u001b[33m\"\u001b[39m  \u001b[38;5;66;03m# lowercase\u001b[39;00m\n\u001b[32m      8\u001b[39m vectorstore = ElasticsearchStore.from_documents(\n\u001b[32m      9\u001b[39m     docs,\n\u001b[32m     10\u001b[39m     embedding=embeddings,\n\u001b[32m   (...)\u001b[39m\u001b[32m     13\u001b[39m     api_key=ELASTIC_API_KEY,\n\u001b[32m     14\u001b[39m )\n",
      "\u001b[31mNameError\u001b[39m: name 'OPENAI_API_KEY' is not defined"
     ]
    }
   ],
   "source": [
    "# assumes OPENAI_API_KEY / ELASTIC_* loaded and `docs` already exist\n",
    "from langchain_openai import OpenAIEmbeddings\n",
    "from langchain_elasticsearch import ElasticsearchStore\n",
    "\n",
    "embeddings = OpenAIEmbeddings(api_key=OPENAI_API_KEY, model=\"text-embedding-3-small\")\n",
    "INDEX_NAME = \"my_docs_index\"  # lowercase\n",
    "\n",
    "vectorstore = ElasticsearchStore.from_documents(\n",
    "    docs,\n",
    "    embedding=embeddings,\n",
    "    index_name=INDEX_NAME,\n",
    "    cloud_id=ELASTIC_CLOUD_ID,\n",
    "    api_key=ELASTIC_API_KEY,\n",
    ")\n"
   ]
  },
  {
   "cell_type": "code",
   "execution_count": 10,
   "metadata": {},
   "outputs": [
    {
     "ename": "RuntimeError",
     "evalue": "`vectorstore` is not defined. Run the cell where you created ElasticsearchStore.from_documents(...) before this one.",
     "output_type": "error",
     "traceback": [
      "\u001b[31m---------------------------------------------------------------------------\u001b[39m",
      "\u001b[31mNameError\u001b[39m                                 Traceback (most recent call last)",
      "\u001b[36mCell\u001b[39m\u001b[36m \u001b[39m\u001b[32mIn[10]\u001b[39m\u001b[32m, line 9\u001b[39m\n\u001b[32m      8\u001b[39m \u001b[38;5;28;01mtry\u001b[39;00m:\n\u001b[32m----> \u001b[39m\u001b[32m9\u001b[39m     vectorstore\n\u001b[32m     10\u001b[39m \u001b[38;5;28;01mexcept\u001b[39;00m \u001b[38;5;167;01mNameError\u001b[39;00m \u001b[38;5;28;01mas\u001b[39;00m e:\n",
      "\u001b[31mNameError\u001b[39m: name 'vectorstore' is not defined",
      "\nThe above exception was the direct cause of the following exception:\n",
      "\u001b[31mRuntimeError\u001b[39m                              Traceback (most recent call last)",
      "\u001b[36mCell\u001b[39m\u001b[36m \u001b[39m\u001b[32mIn[10]\u001b[39m\u001b[32m, line 11\u001b[39m\n\u001b[32m      9\u001b[39m     vectorstore\n\u001b[32m     10\u001b[39m \u001b[38;5;28;01mexcept\u001b[39;00m \u001b[38;5;167;01mNameError\u001b[39;00m \u001b[38;5;28;01mas\u001b[39;00m e:\n\u001b[32m---> \u001b[39m\u001b[32m11\u001b[39m     \u001b[38;5;28;01mraise\u001b[39;00m \u001b[38;5;167;01mRuntimeError\u001b[39;00m(\n\u001b[32m     12\u001b[39m         \u001b[33m\"\u001b[39m\u001b[33m`vectorstore` is not defined. Run the cell where you created \u001b[39m\u001b[33m\"\u001b[39m\n\u001b[32m     13\u001b[39m         \u001b[33m\"\u001b[39m\u001b[33mElasticsearchStore.from_documents(...) before this one.\u001b[39m\u001b[33m\"\u001b[39m\n\u001b[32m     14\u001b[39m     ) \u001b[38;5;28;01mfrom\u001b[39;00m\u001b[38;5;250m \u001b[39m\u001b[34;01me\u001b[39;00m\n\u001b[32m     16\u001b[39m \u001b[38;5;66;03m# --- LLM + Retriever ---\u001b[39;00m\n\u001b[32m     17\u001b[39m \u001b[38;5;28;01mfrom\u001b[39;00m\u001b[38;5;250m \u001b[39m\u001b[34;01mlangchain_openai\u001b[39;00m\u001b[38;5;250m \u001b[39m\u001b[38;5;28;01mimport\u001b[39;00m ChatOpenAI\n",
      "\u001b[31mRuntimeError\u001b[39m: `vectorstore` is not defined. Run the cell where you created ElasticsearchStore.from_documents(...) before this one."
     ]
    }
   ],
   "source": [
    "# --- Ensure env + vectorstore exist ---\n",
    "import os\n",
    "from dotenv import load_dotenv, find_dotenv\n",
    "env_path = find_dotenv()\n",
    "if env_path:\n",
    "    load_dotenv(env_path, override=False)\n",
    "\n",
    "try:\n",
    "    vectorstore\n",
    "except NameError as e:\n",
    "    raise RuntimeError(\n",
    "        \"`vectorstore` is not defined. Run the cell where you created \"\n",
    "        \"ElasticsearchStore.from_documents(...) before this one.\"\n",
    "    ) from e\n",
    "\n",
    "# --- LLM + Retriever ---\n",
    "from langchain_openai import ChatOpenAI\n",
    "from langchain.retrievers.multi_query import MultiQueryRetriever\n",
    "\n",
    "OPENAI_API_KEY = os.getenv(\"OPENAI_API_KEY\")\n",
    "if not OPENAI_API_KEY:\n",
    "    raise RuntimeError(\"Missing OPENAI_API_KEY in your environment/.env\")\n",
    "\n",
    "llm = ChatOpenAI(api_key=OPENAI_API_KEY, temperature=0)\n",
    "\n",
    "# Use MultiQuery; switch to the simple retriever if you want fewer moving parts:\n",
    "# retriever = vectorstore.as_retriever(search_kwargs={\"k\": 4})\n",
    "retriever = MultiQueryRetriever.from_llm(vectorstore.as_retriever(), llm)\n",
    "\n",
    "# --- Prompts & helpers (safe to re-run) ---\n",
    "from langchain_core.runnables import RunnableParallel, RunnablePassthrough, RunnableLambda\n",
    "from langchain_core.output_parsers import StrOutputParser\n",
    "from langchain.prompts import ChatPromptTemplate, PromptTemplate\n",
    "from langchain.schema import format_document\n",
    "\n",
    "LLM_CONTEXT_PROMPT = ChatPromptTemplate.from_template(\n",
    "    \"\"\"You are an assistant for question-answering tasks. Use the following pieces of retrieved context to answer the question. If you don't know the answer, just say that you don't know. Be as verbose and educational in your response as possible. \n",
    "    \n",
    "    context: {context}\n",
    "    Question: \"{question}\"\n",
    "    Answer:\n",
    "    \"\"\"\n",
    ")\n",
    "\n",
    "LLM_DOCUMENT_PROMPT = PromptTemplate.from_template(\n",
    "    \"\"\"\n",
    "---\n",
    "SOURCE: {name}\n",
    "{page_content}\n",
    "---\n",
    "\"\"\"\n",
    ")\n",
    "\n",
    "def _combine_documents(docs, document_prompt=LLM_DOCUMENT_PROMPT, document_separator=\"\\n\\n\"):\n",
    "    rendered = []\n",
    "    for d in docs:\n",
    "        # Fallback if metadata lacks \"name\"\n",
    "        if \"name\" not in d.metadata:\n",
    "            d.metadata.setdefault(\"name\", d.metadata.get(\"source\", \"Unknown\"))\n",
    "        rendered.append(format_document(d, document_prompt))\n",
    "    return document_separator.join(rendered)\n",
    "\n",
    "# --- Runnable graph: {context, question} -> prompt -> llm -> str ---\n",
    "_context = RunnableParallel(\n",
    "    context=retriever | RunnableLambda(_combine_documents),\n",
    "    question=RunnablePassthrough(),\n",
    ")\n",
    "\n",
    "chain = _context | LLM_CONTEXT_PROMPT | llm | StrOutputParser()\n",
    "\n",
    "# --- Invoke ---\n",
    "ans = chain.invoke(\"what is the nasa sales team?\")\n",
    "print(\"---- Answer ----\")\n",
    "print(ans)\n",
    "\n",
    "# Optional quick checks:\n",
    "# hits = vectorstore.similarity_search(\"nasa\", k=3)\n",
    "# print(\"hits:\", len(hits), [h.metadata.get(\"name\") or h.metadata.get(\"source\") for h in hits])\n",
    "\n"
   ]
  },
  {
   "cell_type": "code",
   "execution_count": 8,
   "metadata": {},
   "outputs": [
    {
     "ename": "NameError",
     "evalue": "name 'vectorstore' is not defined",
     "output_type": "error",
     "traceback": [
      "\u001b[31m---------------------------------------------------------------------------\u001b[39m",
      "\u001b[31mNameError\u001b[39m                                 Traceback (most recent call last)",
      "\u001b[36mCell\u001b[39m\u001b[36m \u001b[39m\u001b[32mIn[8]\u001b[39m\u001b[32m, line 11\u001b[39m\n\u001b[32m      5\u001b[39m llm = ChatOpenAI(api_key=OPENAI_API_KEY, temperature=\u001b[32m0\u001b[39m)\n\u001b[32m      7\u001b[39m \u001b[38;5;66;03m# Simple retriever (works fine):\u001b[39;00m\n\u001b[32m      8\u001b[39m \u001b[38;5;66;03m# retriever = vectorstore.as_retriever(search_kwargs={\"k\": 4})\u001b[39;00m\n\u001b[32m      9\u001b[39m \n\u001b[32m     10\u001b[39m \u001b[38;5;66;03m# Or MultiQuery retriever (expands queries via the LLM):\u001b[39;00m\n\u001b[32m---> \u001b[39m\u001b[32m11\u001b[39m retriever = MultiQueryRetriever.from_llm(vectorstore.as_retriever(), llm)\n",
      "\u001b[31mNameError\u001b[39m: name 'vectorstore' is not defined"
     ]
    }
   ],
   "source": [
    "# --- make sure llm + retriever exist BEFORE building the chain ---\n",
    "from langchain_openai import ChatOpenAI\n",
    "from langchain.retrievers.multi_query import MultiQueryRetriever\n",
    "\n",
    "llm = ChatOpenAI(api_key=OPENAI_API_KEY, temperature=0)\n",
    "\n",
    "# Simple retriever (works fine):\n",
    "# retriever = vectorstore.as_retriever(search_kwargs={\"k\": 4})\n",
    "\n",
    "# Or MultiQuery retriever (expands queries via the LLM):\n",
    "retriever = MultiQueryRetriever.from_llm(vectorstore.as_retriever(), llm)\n"
   ]
  },
  {
   "cell_type": "code",
   "execution_count": 1,
   "metadata": {},
   "outputs": [
    {
     "ename": "NameError",
     "evalue": "name 'retriever' is not defined",
     "output_type": "error",
     "traceback": [
      "\u001b[31m---------------------------------------------------------------------------\u001b[39m",
      "\u001b[31mNameError\u001b[39m                                 Traceback (most recent call last)",
      "\u001b[36mCell\u001b[39m\u001b[36m \u001b[39m\u001b[32mIn[1]\u001b[39m\u001b[32m, line 37\u001b[39m\n\u001b[32m     32\u001b[39m     doc_strings = [format_document(doc, document_prompt) \u001b[38;5;28;01mfor\u001b[39;00m doc \u001b[38;5;129;01min\u001b[39;00m docs]\n\u001b[32m     33\u001b[39m     \u001b[38;5;28;01mreturn\u001b[39;00m document_separator.join(doc_strings)\n\u001b[32m     36\u001b[39m _context = RunnableParallel(\n\u001b[32m---> \u001b[39m\u001b[32m37\u001b[39m     context=retriever | _combine_documents,\n\u001b[32m     38\u001b[39m     question=RunnablePassthrough(),\n\u001b[32m     39\u001b[39m )\n\u001b[32m     41\u001b[39m chain = _context | LLM_CONTEXT_PROMPT | llm\n\u001b[32m     43\u001b[39m ans = chain.invoke(\u001b[33m\"\u001b[39m\u001b[33mwhat is the nasa sales team?\u001b[39m\u001b[33m\"\u001b[39m)\n",
      "\u001b[31mNameError\u001b[39m: name 'retriever' is not defined"
     ]
    }
   ],
   "source": [
    "from langchain.schema.runnable import RunnableParallel, RunnablePassthrough\n",
    "from langchain.prompts import ChatPromptTemplate, PromptTemplate\n",
    "from langchain.schema import format_document\n",
    "\n",
    "import logging\n",
    "\n",
    "logging.basicConfig()\n",
    "logging.getLogger(\"langchain.retrievers.multi_query\").setLevel(logging.INFO)\n",
    "\n",
    "LLM_CONTEXT_PROMPT = ChatPromptTemplate.from_template(\n",
    "    \"\"\"You are an assistant for question-answering tasks. Use the following pieces of retrieved context to answer the question. If you don't know the answer, just say that you don't know. Be as verbose and educational in your response as possible. \n",
    "    \n",
    "    context: {context}\n",
    "    Question: \"{question}\"\n",
    "    Answer:\n",
    "    \"\"\"\n",
    ")\n",
    "\n",
    "LLM_DOCUMENT_PROMPT = PromptTemplate.from_template(\n",
    "    \"\"\"\n",
    "---\n",
    "SOURCE: {name}\n",
    "{page_content}\n",
    "---\n",
    "\"\"\"\n",
    ")\n",
    "\n",
    "\n",
    "def _combine_documents(\n",
    "    docs, document_prompt=LLM_DOCUMENT_PROMPT, document_separator=\"\\n\\n\"\n",
    "):\n",
    "    doc_strings = [format_document(doc, document_prompt) for doc in docs]\n",
    "    return document_separator.join(doc_strings)\n",
    "\n",
    "\n",
    "_context = RunnableParallel(\n",
    "    context=retriever | _combine_documents,\n",
    "    question=RunnablePassthrough(),\n",
    ")\n",
    "\n",
    "chain = _context | LLM_CONTEXT_PROMPT | llm\n",
    "\n",
    "ans = chain.invoke(\"what is the nasa sales team?\")\n",
    "\n",
    "print(\"---- Answer ----\")\n",
    "print(ans)"
   ]
  },
  {
   "cell_type": "markdown",
   "metadata": {},
   "source": [
    "**Generate at least two new iteratioins of the previous cells - Be creative.** Did you master Multi-\n",
    "Query Retriever concepts through this lab?"
   ]
  }
 ],
 "metadata": {
  "kernelspec": {
   "display_name": "Python (mon_env)",
   "language": "python",
   "name": "mon_env"
  },
  "language_info": {
   "codemirror_mode": {
    "name": "ipython",
    "version": 3
   },
   "file_extension": ".py",
   "mimetype": "text/x-python",
   "name": "python",
   "nbconvert_exporter": "python",
   "pygments_lexer": "ipython3",
   "version": "3.11.13"
  }
 },
 "nbformat": 4,
 "nbformat_minor": 4
}
